{
 "cells": [
  {
   "cell_type": "markdown",
   "metadata": {
    "id": "qSZfcmo2a3w3"
   },
   "source": [
    "Data loading, pre-processing and representation\n",
    "---\n",
    "\n"
   ]
  },
  {
   "cell_type": "code",
   "execution_count": 1,
   "metadata": {
    "id": "_gMBrFC_S3JA"
   },
   "outputs": [],
   "source": [
    "#adding libraries\n",
    "from sklearn import linear_model  \n",
    "from sklearn.linear_model import LinearRegression  \n",
    "import csv          \n",
    "import requests     \n",
    "import numpy as np  \n",
    "import pandas as pd\n",
    "import matplotlib\n",
    "import matplotlib.pyplot as plt\n",
    "import seaborn as sns\n",
    "import scipy.stats as stats\n",
    "from sklearn import metrics\n",
    "import pandas"
   ]
  },
  {
   "cell_type": "code",
   "execution_count": 2,
   "metadata": {
    "colab": {
     "base_uri": "https://localhost:8080/"
    },
    "id": "fnkTnkNiS6Sq",
    "outputId": "344aa73b-9947-4d06-cd8e-66f703b4b6fb"
   },
   "outputs": [
    {
     "name": "stdout",
     "output_type": "stream",
     "text": [
      "Pregnancies                   int64\n",
      "Glucose                       int64\n",
      "BloodPressure                 int64\n",
      "SkinThickness                 int64\n",
      "Insulin                       int64\n",
      "BMI                         float64\n",
      "DiabetesPedigreeFunction    float64\n",
      "Age                           int64\n",
      "Outcome                       int64\n",
      "dtype: object\n"
     ]
    }
   ],
   "source": [
    "my_dataset = pd.read_csv('diabetes.csv')\n",
    "#Representing datatypes of the dataset columns\n",
    "print(my_dataset.dtypes) "
   ]
  },
  {
   "cell_type": "markdown",
   "metadata": {
    "id": "xmefVd4zd0xp"
   },
   "source": [
    "### Datatype matching"
   ]
  },
  {
   "cell_type": "code",
   "execution_count": 3,
   "metadata": {
    "colab": {
     "base_uri": "https://localhost:8080/"
    },
    "id": "wiiGMGnO_UtH",
    "outputId": "03c6c172-5b2d-44e7-bf40-b21c2bb1c8ff"
   },
   "outputs": [
    {
     "name": "stdout",
     "output_type": "stream",
     "text": [
      "Pregnancies                   int64\n",
      "Glucose                       int64\n",
      "BloodPressure                 int64\n",
      "SkinThickness                 int64\n",
      "Insulin                       int64\n",
      "BMI                         float64\n",
      "DiabetesPedigreeFunction    float64\n",
      "Age                           int64\n",
      "Outcome                       int64\n",
      "dtype: object\n"
     ]
    }
   ],
   "source": [
    "# In the dataset there are no categorical feature, therefore, datatypes don't need to be changed\n",
    "print(my_dataset.dtypes) "
   ]
  },
  {
   "cell_type": "markdown",
   "metadata": {
    "id": "OPhV-74AeFaN"
   },
   "source": [
    "###Representing and analysing data about the dataset"
   ]
  },
  {
   "cell_type": "code",
   "execution_count": 4,
   "metadata": {
    "colab": {
     "base_uri": "https://localhost:8080/"
    },
    "id": "H2Pl5zG9BUnm",
    "outputId": "24aa9763-195e-465d-dcfb-327a289c4e1c"
   },
   "outputs": [
    {
     "name": "stdout",
     "output_type": "stream",
     "text": [
      "       Pregnancies     Glucose  BloodPressure  SkinThickness     Insulin  \\\n",
      "count   768.000000  768.000000     768.000000     768.000000  768.000000   \n",
      "mean      3.845052  120.894531      69.105469      20.536458   79.799479   \n",
      "std       3.369578   31.972618      19.355807      15.952218  115.244002   \n",
      "min       0.000000    0.000000       0.000000       0.000000    0.000000   \n",
      "25%       1.000000   99.000000      62.000000       0.000000    0.000000   \n",
      "50%       3.000000  117.000000      72.000000      23.000000   30.500000   \n",
      "75%       6.000000  140.250000      80.000000      32.000000  127.250000   \n",
      "max      17.000000  199.000000     122.000000      99.000000  846.000000   \n",
      "\n",
      "              BMI  DiabetesPedigreeFunction         Age     Outcome  \n",
      "count  768.000000                768.000000  768.000000  768.000000  \n",
      "mean    31.992578                  0.471876   33.240885    0.348958  \n",
      "std      7.884160                  0.331329   11.760232    0.476951  \n",
      "min      0.000000                  0.078000   21.000000    0.000000  \n",
      "25%     27.300000                  0.243750   24.000000    0.000000  \n",
      "50%     32.000000                  0.372500   29.000000    0.000000  \n",
      "75%     36.600000                  0.626250   41.000000    1.000000  \n",
      "max     67.100000                  2.420000   81.000000    1.000000  \n",
      "<class 'pandas.core.frame.DataFrame'>\n",
      "RangeIndex: 768 entries, 0 to 767\n",
      "Data columns (total 9 columns):\n",
      " #   Column                    Non-Null Count  Dtype  \n",
      "---  ------                    --------------  -----  \n",
      " 0   Pregnancies               768 non-null    int64  \n",
      " 1   Glucose                   768 non-null    int64  \n",
      " 2   BloodPressure             768 non-null    int64  \n",
      " 3   SkinThickness             768 non-null    int64  \n",
      " 4   Insulin                   768 non-null    int64  \n",
      " 5   BMI                       768 non-null    float64\n",
      " 6   DiabetesPedigreeFunction  768 non-null    float64\n",
      " 7   Age                       768 non-null    int64  \n",
      " 8   Outcome                   768 non-null    int64  \n",
      "dtypes: float64(2), int64(7)\n",
      "memory usage: 54.1 KB\n",
      "None\n"
     ]
    }
   ],
   "source": [
    "\n",
    "print(my_dataset.describe())\n",
    "print(my_dataset.info()) "
   ]
  },
  {
   "cell_type": "markdown",
   "metadata": {
    "id": "kdF2W8KuCkUq"
   },
   "source": [
    "You can see above that there are two data objects in the dataset with missing values for the attributes \"culmen_length_mm\", \"culmen_depth_mm\", \"flipper_length_mm\", \"body_mass_g\". To obtain the values, we replace the missing values by the mean value of the attribute\n"
   ]
  },
  {
   "cell_type": "markdown",
   "metadata": {
    "id": "clhuv6qBeMo-"
   },
   "source": [
    "###Replacing missing values"
   ]
  },
  {
   "cell_type": "code",
   "execution_count": 8,
   "metadata": {
    "colab": {
     "base_uri": "https://localhost:8080/"
    },
    "id": "hp9kVmgSDT3I",
    "outputId": "36bc571a-8f0b-4631-e325-70c8ac6cbee7"
   },
   "outputs": [
    {
     "name": "stdout",
     "output_type": "stream",
     "text": [
      "<class 'pandas.core.frame.DataFrame'>\n",
      "RangeIndex: 768 entries, 0 to 767\n",
      "Data columns (total 9 columns):\n",
      " #   Column                    Non-Null Count  Dtype  \n",
      "---  ------                    --------------  -----  \n",
      " 0   Pregnancies               768 non-null    float64\n",
      " 1   Glucose                   768 non-null    float64\n",
      " 2   BloodPressure             768 non-null    float64\n",
      " 3   SkinThickness             768 non-null    float64\n",
      " 4   Insulin                   768 non-null    float64\n",
      " 5   BMI                       768 non-null    float64\n",
      " 6   DiabetesPedigreeFunction  768 non-null    float64\n",
      " 7   Age                       768 non-null    float64\n",
      " 8   Outcome                   768 non-null    int64  \n",
      "dtypes: float64(8), int64(1)\n",
      "memory usage: 54.1 KB\n",
      "None\n"
     ]
    }
   ],
   "source": [
    "#In our dataset neither object misses a feature, so the functions for willing blanks are not needed\n",
    "#On the other hand there are some outliers which are replaced with the mean values\n",
    "my_dataset['BloodPressure'].replace(0, my_dataset['BloodPressure'].mean(), inplace=True)\n",
    "my_dataset['SkinThickness'].replace(0, my_dataset['SkinThickness'].mean(), inplace=True)\n",
    "my_dataset['BMI'].replace(0, my_dataset['BMI'].mean(), inplace=True)\n",
    "print(my_dataset.info())"
   ]
  },
  {
   "cell_type": "code",
   "execution_count": 6,
   "metadata": {
    "colab": {
     "base_uri": "https://localhost:8080/"
    },
    "id": "tGf6P2pzsoU2",
    "outputId": "1e86dca0-5760-4679-92b2-dfe06dedf6ae"
   },
   "outputs": [
    {
     "name": "stdout",
     "output_type": "stream",
     "text": [
      "0    500\n",
      "1    268\n",
      "Name: Outcome, dtype: int64\n"
     ]
    }
   ],
   "source": [
    "#For attributes of categorical type, the values are checked against possible values\n",
    "print(my_dataset['Outcome'].value_counts())"
   ]
  },
  {
   "cell_type": "markdown",
   "metadata": {
    "id": "3GldH7OxeWtA"
   },
   "source": [
    "###Data normalization"
   ]
  },
  {
   "cell_type": "code",
   "execution_count": 9,
   "metadata": {
    "colab": {
     "base_uri": "https://localhost:8080/"
    },
    "id": "0rQakCOXGhSg",
    "outputId": "a2cd4cbd-540b-4feb-de4d-ed3180edf1ed"
   },
   "outputs": [
    {
     "name": "stdout",
     "output_type": "stream",
     "text": [
      "   Pregnancies   Glucose  BloodPressure  SkinThickness   Insulin       BMI  \\\n",
      "0     0.352941  0.743719       0.456522       0.296703  0.000000  0.314928   \n",
      "1     0.058824  0.427136       0.391304       0.230769  0.000000  0.171779   \n",
      "2     0.470588  0.919598       0.369565       0.137763  0.000000  0.104294   \n",
      "3     0.058824  0.447236       0.391304       0.164835  0.111111  0.202454   \n",
      "4     0.000000  0.688442       0.108696       0.296703  0.198582  0.509202   \n",
      "5     0.294118  0.582915       0.478261       0.137763  0.000000  0.151329   \n",
      "6     0.176471  0.391960       0.217391       0.263736  0.104019  0.261759   \n",
      "7     0.588235  0.577889       0.425059       0.137763  0.000000  0.349693   \n",
      "8     0.117647  0.989950       0.434783       0.406593  0.641844  0.251534   \n",
      "9     0.470588  0.628141       0.717391       0.137763  0.000000  0.282057   \n",
      "\n",
      "   DiabetesPedigreeFunction       Age  Outcome  \n",
      "0                  0.234415  0.483333        1  \n",
      "1                  0.116567  0.166667        0  \n",
      "2                  0.253629  0.183333        1  \n",
      "3                  0.038002  0.000000        0  \n",
      "4                  0.943638  0.200000        1  \n",
      "5                  0.052519  0.150000        0  \n",
      "6                  0.072588  0.083333        1  \n",
      "7                  0.023911  0.133333        0  \n",
      "8                  0.034159  0.533333        1  \n",
      "9                  0.065756  0.550000        1  \n",
      "       Pregnancies     Glucose  BloodPressure  SkinThickness     Insulin  \\\n",
      "count   768.000000  768.000000     768.000000     768.000000  768.000000   \n",
      "mean      0.226180    0.607510       0.459974       0.205028    0.094326   \n",
      "std       0.198210    0.160666       0.130324       0.105263    0.136222   \n",
      "min       0.000000    0.000000       0.000000       0.000000    0.000000   \n",
      "25%       0.058824    0.497487       0.369565       0.137763    0.000000   \n",
      "50%       0.176471    0.587940       0.456522       0.164835    0.036052   \n",
      "75%       0.352941    0.704774       0.543478       0.263736    0.150414   \n",
      "max       1.000000    1.000000       1.000000       1.000000    1.000000   \n",
      "\n",
      "              BMI  DiabetesPedigreeFunction         Age     Outcome  \n",
      "count  768.000000                768.000000  768.000000  768.000000  \n",
      "mean     0.291428                  0.168179    0.204015    0.348958  \n",
      "std      0.140601                  0.141473    0.196004    0.476951  \n",
      "min      0.000000                  0.000000    0.000000    0.000000  \n",
      "25%      0.190184                  0.070773    0.050000    0.000000  \n",
      "50%      0.282209                  0.125747    0.133333    0.000000  \n",
      "75%      0.376278                  0.234095    0.333333    1.000000  \n",
      "max      1.000000                  1.000000    1.000000    1.000000  \n"
     ]
    }
   ],
   "source": [
    "#Data normalisation is applied for four attributes to make the data more consistent\n",
    "my_dataset['Pregnancies'] = (my_dataset['Pregnancies'] - my_dataset['Pregnancies'].min())/(my_dataset['Pregnancies'].max() - my_dataset['Pregnancies'].min())\n",
    "my_dataset['Glucose'] = (my_dataset['Glucose'] - my_dataset['Glucose'].min())/(my_dataset['Glucose'].max() - my_dataset['Glucose'].min())\n",
    "my_dataset['BloodPressure'] = (my_dataset['BloodPressure'] - my_dataset['BloodPressure'].min())/(my_dataset['BloodPressure'].max() - my_dataset['BloodPressure'].min())\n",
    "my_dataset['SkinThickness'] = (my_dataset['SkinThickness'] - my_dataset['SkinThickness'].min())/(my_dataset['SkinThickness'].max() - my_dataset['SkinThickness'].min())\n",
    "my_dataset['Insulin'] = (my_dataset['Insulin'] - my_dataset['Insulin'].min())/(my_dataset['Insulin'].max() - my_dataset['Insulin'].min())\n",
    "my_dataset['BMI'] = (my_dataset['BMI'] - my_dataset['BMI'].min())/(my_dataset['BMI'].max() - my_dataset['BMI'].min())\n",
    "my_dataset['DiabetesPedigreeFunction'] = (my_dataset['DiabetesPedigreeFunction'] - my_dataset['DiabetesPedigreeFunction'].min())/(my_dataset['DiabetesPedigreeFunction'].max() - my_dataset['DiabetesPedigreeFunction'].min())\n",
    "my_dataset['Age'] = (my_dataset['Age'] - my_dataset['Age'].min())/(my_dataset['Age'].max() - my_dataset['Age'].min())\n",
    "print(my_dataset.head(10))\n",
    "print(my_dataset.describe())"
   ]
  }
 ],
 "metadata": {
  "colab": {
   "collapsed_sections": [
    "LTxaIg_KVc2l",
    "dznf3CJjsLgL",
    "M80eka9yu0i0",
    "ebyxMJ7NvDsC",
    "sosQqUjgvSKd",
    "DoVP0wFIv41m",
    "O0DkTO_ax_5J",
    "yYAheMDTyuGa",
    "5tbSLd9t0-JL",
    "P8hJ1Dqd1k2S",
    "4RmtfxAM3hFM",
    "dom4tj1y3xWf",
    "LftQhoi_CETC",
    "3Hkt83qc9_fy"
   ],
   "provenance": [],
   "toc_visible": true
  },
  "kernelspec": {
   "display_name": "Python 3 (ipykernel)",
   "language": "python",
   "name": "python3"
  },
  "language_info": {
   "codemirror_mode": {
    "name": "ipython",
    "version": 3
   },
   "file_extension": ".py",
   "mimetype": "text/x-python",
   "name": "python",
   "nbconvert_exporter": "python",
   "pygments_lexer": "ipython3",
   "version": "3.9.12"
  }
 },
 "nbformat": 4,
 "nbformat_minor": 1
}
