{
 "cells": [
  {
   "cell_type": "markdown",
   "metadata": {
    "id": "qSZfcmo2a3w3"
   },
   "source": [
    "Data loading, pre-processing and representation\n",
    "---\n",
    "\n"
   ]
  },
  {
   "cell_type": "code",
   "execution_count": 2,
   "metadata": {
    "id": "_gMBrFC_S3JA"
   },
   "outputs": [],
   "source": [
    "#adding libraries\n",
    "from sklearn import linear_model  \n",
    "from sklearn.linear_model import LinearRegression  \n",
    "import csv          \n",
    "import requests     \n",
    "import numpy as np  \n",
    "import pandas as pd\n",
    "import matplotlib\n",
    "import matplotlib.pyplot as plt\n",
    "import seaborn as sns\n",
    "import scipy.stats as stats\n",
    "from sklearn import metrics\n",
    "import pandas"
   ]
  },
  {
   "cell_type": "code",
   "execution_count": 3,
   "metadata": {
    "colab": {
     "base_uri": "https://localhost:8080/"
    },
    "id": "fnkTnkNiS6Sq",
    "outputId": "344aa73b-9947-4d06-cd8e-66f703b4b6fb"
   },
   "outputs": [
    {
     "name": "stdout",
     "output_type": "stream",
     "text": [
      "Pregnancies                   int64\n",
      "Glucose                       int64\n",
      "BloodPressure                 int64\n",
      "SkinThickness                 int64\n",
      "Insulin                       int64\n",
      "BMI                         float64\n",
      "DiabetesPedigreeFunction    float64\n",
      "Age                           int64\n",
      "Outcome                       int64\n",
      "dtype: object\n"
     ]
    }
   ],
   "source": [
    "my_dataset = pd.read_csv('diabetes.csv')\n",
    "#Representing datatypes of the dataset columns\n",
    "print(my_dataset.dtypes) "
   ]
  },
  {
   "cell_type": "markdown",
   "metadata": {
    "id": "xmefVd4zd0xp"
   },
   "source": [
    "### Datatype matching"
   ]
  },
  {
   "cell_type": "code",
   "execution_count": 4,
   "metadata": {
    "colab": {
     "base_uri": "https://localhost:8080/"
    },
    "id": "wiiGMGnO_UtH",
    "outputId": "03c6c172-5b2d-44e7-bf40-b21c2bb1c8ff"
   },
   "outputs": [
    {
     "name": "stdout",
     "output_type": "stream",
     "text": [
      "Pregnancies                   int64\n",
      "Glucose                       int64\n",
      "BloodPressure                 int64\n",
      "SkinThickness                 int64\n",
      "Insulin                       int64\n",
      "BMI                         float64\n",
      "DiabetesPedigreeFunction    float64\n",
      "Age                           int64\n",
      "Outcome                       int64\n",
      "dtype: object\n"
     ]
    }
   ],
   "source": [
    "# In the dataset there are no categorical feature, therefore, datatypes don't need to be changed\n",
    "print(my_dataset.dtypes) "
   ]
  },
  {
   "cell_type": "markdown",
   "metadata": {
    "id": "OPhV-74AeFaN"
   },
   "source": [
    "###Representing and analysing data about the dataset"
   ]
  },
  {
   "cell_type": "code",
   "execution_count": 5,
   "metadata": {
    "colab": {
     "base_uri": "https://localhost:8080/"
    },
    "id": "H2Pl5zG9BUnm",
    "outputId": "24aa9763-195e-465d-dcfb-327a289c4e1c"
   },
   "outputs": [
    {
     "name": "stdout",
     "output_type": "stream",
     "text": [
      "       Pregnancies     Glucose  BloodPressure  SkinThickness     Insulin  \\\n",
      "count   768.000000  768.000000     768.000000     768.000000  768.000000   \n",
      "mean      3.845052  120.894531      69.105469      20.536458   79.799479   \n",
      "std       3.369578   31.972618      19.355807      15.952218  115.244002   \n",
      "min       0.000000    0.000000       0.000000       0.000000    0.000000   \n",
      "25%       1.000000   99.000000      62.000000       0.000000    0.000000   \n",
      "50%       3.000000  117.000000      72.000000      23.000000   30.500000   \n",
      "75%       6.000000  140.250000      80.000000      32.000000  127.250000   \n",
      "max      17.000000  199.000000     122.000000      99.000000  846.000000   \n",
      "\n",
      "              BMI  DiabetesPedigreeFunction         Age     Outcome  \n",
      "count  768.000000                768.000000  768.000000  768.000000  \n",
      "mean    31.992578                  0.471876   33.240885    0.348958  \n",
      "std      7.884160                  0.331329   11.760232    0.476951  \n",
      "min      0.000000                  0.078000   21.000000    0.000000  \n",
      "25%     27.300000                  0.243750   24.000000    0.000000  \n",
      "50%     32.000000                  0.372500   29.000000    0.000000  \n",
      "75%     36.600000                  0.626250   41.000000    1.000000  \n",
      "max     67.100000                  2.420000   81.000000    1.000000  \n",
      "<class 'pandas.core.frame.DataFrame'>\n",
      "RangeIndex: 768 entries, 0 to 767\n",
      "Data columns (total 9 columns):\n",
      " #   Column                    Non-Null Count  Dtype  \n",
      "---  ------                    --------------  -----  \n",
      " 0   Pregnancies               768 non-null    int64  \n",
      " 1   Glucose                   768 non-null    int64  \n",
      " 2   BloodPressure             768 non-null    int64  \n",
      " 3   SkinThickness             768 non-null    int64  \n",
      " 4   Insulin                   768 non-null    int64  \n",
      " 5   BMI                       768 non-null    float64\n",
      " 6   DiabetesPedigreeFunction  768 non-null    float64\n",
      " 7   Age                       768 non-null    int64  \n",
      " 8   Outcome                   768 non-null    int64  \n",
      "dtypes: float64(2), int64(7)\n",
      "memory usage: 54.1 KB\n",
      "None\n"
     ]
    }
   ],
   "source": [
    "\n",
    "print(my_dataset.describe())\n",
    "print(my_dataset.info()) "
   ]
  },
  {
   "cell_type": "markdown",
   "metadata": {
    "id": "kdF2W8KuCkUq"
   },
   "source": [
    "You can see above that there are two data objects in the dataset with missing values for the attributes \"culmen_length_mm\", \"culmen_depth_mm\", \"flipper_length_mm\", \"body_mass_g\". To obtain the values, we replace the missing values by the mean value of the attribute\n"
   ]
  },
  {
   "cell_type": "markdown",
   "metadata": {
    "id": "clhuv6qBeMo-"
   },
   "source": [
    "###Replacing missing values"
   ]
  },
  {
   "cell_type": "code",
   "execution_count": 6,
   "metadata": {
    "colab": {
     "base_uri": "https://localhost:8080/"
    },
    "id": "hp9kVmgSDT3I",
    "outputId": "36bc571a-8f0b-4631-e325-70c8ac6cbee7"
   },
   "outputs": [
    {
     "name": "stdout",
     "output_type": "stream",
     "text": [
      "<class 'pandas.core.frame.DataFrame'>\n",
      "RangeIndex: 768 entries, 0 to 767\n",
      "Data columns (total 9 columns):\n",
      " #   Column                    Non-Null Count  Dtype  \n",
      "---  ------                    --------------  -----  \n",
      " 0   Pregnancies               768 non-null    int64  \n",
      " 1   Glucose                   768 non-null    int64  \n",
      " 2   BloodPressure             768 non-null    float64\n",
      " 3   SkinThickness             768 non-null    float64\n",
      " 4   Insulin                   768 non-null    int64  \n",
      " 5   BMI                       768 non-null    float64\n",
      " 6   DiabetesPedigreeFunction  768 non-null    float64\n",
      " 7   Age                       768 non-null    int64  \n",
      " 8   Outcome                   768 non-null    int64  \n",
      "dtypes: float64(4), int64(5)\n",
      "memory usage: 54.1 KB\n",
      "None\n"
     ]
    }
   ],
   "source": [
    "#In our dataset neither object misses a feature, so the functions for willing blanks are not needed\n",
    "#On the other hand there are some outliers which are replaced with the mean values\n",
    "my_dataset['BloodPressure'].replace(0, my_dataset['BloodPressure'].mean(), inplace=True)\n",
    "my_dataset['SkinThickness'].replace(0, my_dataset['SkinThickness'].mean(), inplace=True)\n",
    "my_dataset['BMI'].replace(0, my_dataset['BMI'].mean(), inplace=True)\n",
    "print(my_dataset.info())"
   ]
  },
  {
   "cell_type": "code",
   "execution_count": 7,
   "metadata": {
    "colab": {
     "base_uri": "https://localhost:8080/"
    },
    "id": "tGf6P2pzsoU2",
    "outputId": "1e86dca0-5760-4679-92b2-dfe06dedf6ae"
   },
   "outputs": [
    {
     "name": "stdout",
     "output_type": "stream",
     "text": [
      "0    500\n",
      "1    268\n",
      "Name: Outcome, dtype: int64\n"
     ]
    }
   ],
   "source": [
    "#For attributes of categorical type, the values are checked against possible values\n",
    "print(my_dataset['Outcome'].value_counts())"
   ]
  },
  {
   "cell_type": "code",
   "execution_count": 9,
   "metadata": {},
   "outputs": [],
   "source": [
    "#Creating a dataset where labels are excluded leaving feature columns only\n",
    "clustering_dataset = my_dataset[['Pregnancies', 'Glucose', 'BloodPressure', 'SkinThickness',\n",
    "                               'Insulin', 'BMI', 'DiabetesPedigreeFunction', 'Age']]"
   ]
  },
  {
   "cell_type": "markdown",
   "metadata": {
    "id": "3GldH7OxeWtA"
   },
   "source": [
    "###Data normalization"
   ]
  },
  {
   "cell_type": "code",
   "execution_count": 10,
   "metadata": {
    "colab": {
     "base_uri": "https://localhost:8080/"
    },
    "id": "0rQakCOXGhSg",
    "outputId": "a2cd4cbd-540b-4feb-de4d-ed3180edf1ed"
   },
   "outputs": [
    {
     "name": "stdout",
     "output_type": "stream",
     "text": [
      "   Pregnancies   Glucose  BloodPressure  SkinThickness   Insulin       BMI  \\\n",
      "0     0.352941  0.743719       0.489796       0.304348  0.000000  0.314928   \n",
      "1     0.058824  0.427136       0.428571       0.239130  0.000000  0.171779   \n",
      "2     0.470588  0.919598       0.408163       0.147135  0.000000  0.104294   \n",
      "3     0.058824  0.447236       0.428571       0.173913  0.111111  0.202454   \n",
      "4     0.000000  0.688442       0.163265       0.304348  0.198582  0.509202   \n",
      "5     0.294118  0.582915       0.510204       0.147135  0.000000  0.151329   \n",
      "6     0.176471  0.391960       0.265306       0.271739  0.104019  0.261759   \n",
      "7     0.588235  0.577889       0.460260       0.147135  0.000000  0.349693   \n",
      "8     0.117647  0.989950       0.469388       0.413043  0.641844  0.251534   \n",
      "9     0.470588  0.628141       0.734694       0.147135  0.000000  0.282057   \n",
      "\n",
      "   DiabetesPedigreeFunction       Age  Outcome  \n",
      "0                  0.234415  0.483333        1  \n",
      "1                  0.116567  0.166667        0  \n",
      "2                  0.253629  0.183333        1  \n",
      "3                  0.038002  0.000000        0  \n",
      "4                  0.943638  0.200000        1  \n",
      "5                  0.052519  0.150000        0  \n",
      "6                  0.072588  0.083333        1  \n",
      "7                  0.023911  0.133333        0  \n",
      "8                  0.034159  0.533333        1  \n",
      "9                  0.065756  0.550000        1  \n",
      "       Pregnancies     Glucose  BloodPressure  SkinThickness     Insulin  \\\n",
      "count   768.000000  768.000000     768.000000     768.000000  768.000000   \n",
      "mean      0.226180    0.607510       0.492396       0.213114    0.094326   \n",
      "std       0.198210    0.160666       0.123632       0.104687    0.136222   \n",
      "min       0.000000    0.000000       0.000000       0.000000    0.000000   \n",
      "25%       0.058824    0.497487       0.408163       0.147135    0.000000   \n",
      "50%       0.176471    0.587940       0.489796       0.173913    0.036052   \n",
      "75%       0.352941    0.704774       0.571429       0.271739    0.150414   \n",
      "max       1.000000    1.000000       1.000000       1.000000    1.000000   \n",
      "\n",
      "              BMI  DiabetesPedigreeFunction         Age     Outcome  \n",
      "count  768.000000                768.000000  768.000000  768.000000  \n",
      "mean     0.291428                  0.168179    0.204015    0.348958  \n",
      "std      0.140601                  0.141473    0.196004    0.476951  \n",
      "min      0.000000                  0.000000    0.000000    0.000000  \n",
      "25%      0.190184                  0.070773    0.050000    0.000000  \n",
      "50%      0.282209                  0.125747    0.133333    0.000000  \n",
      "75%      0.376278                  0.234095    0.333333    1.000000  \n",
      "max      1.000000                  1.000000    1.000000    1.000000  \n"
     ]
    }
   ],
   "source": [
    "#Data normalisation is applied for four attributes to make the data more consistent\n",
    "my_dataset['Pregnancies'] = (my_dataset['Pregnancies'] - my_dataset['Pregnancies'].min())/(my_dataset['Pregnancies'].max() - my_dataset['Pregnancies'].min())\n",
    "my_dataset['Glucose'] = (my_dataset['Glucose'] - my_dataset['Glucose'].min())/(my_dataset['Glucose'].max() - my_dataset['Glucose'].min())\n",
    "my_dataset['BloodPressure'] = (my_dataset['BloodPressure'] - my_dataset['BloodPressure'].min())/(my_dataset['BloodPressure'].max() - my_dataset['BloodPressure'].min())\n",
    "my_dataset['SkinThickness'] = (my_dataset['SkinThickness'] - my_dataset['SkinThickness'].min())/(my_dataset['SkinThickness'].max() - my_dataset['SkinThickness'].min())\n",
    "my_dataset['Insulin'] = (my_dataset['Insulin'] - my_dataset['Insulin'].min())/(my_dataset['Insulin'].max() - my_dataset['Insulin'].min())\n",
    "my_dataset['BMI'] = (my_dataset['BMI'] - my_dataset['BMI'].min())/(my_dataset['BMI'].max() - my_dataset['BMI'].min())\n",
    "my_dataset['DiabetesPedigreeFunction'] = (my_dataset['DiabetesPedigreeFunction'] - my_dataset['DiabetesPedigreeFunction'].min())/(my_dataset['DiabetesPedigreeFunction'].max() - my_dataset['DiabetesPedigreeFunction'].min())\n",
    "my_dataset['Age'] = (my_dataset['Age'] - my_dataset['Age'].min())/(my_dataset['Age'].max() - my_dataset['Age'].min())\n",
    "print(my_dataset.head(10))\n",
    "print(my_dataset.describe())"
   ]
  },
  {
   "cell_type": "markdown",
   "metadata": {},
   "source": [
    "# Artificial Neural Networks"
   ]
  },
  {
   "cell_type": "markdown",
   "metadata": {},
   "source": [
    "1st model: 2 hidden layers with 32 neurons in each, learning rate is equal to 0.05"
   ]
  },
  {
   "cell_type": "code",
   "execution_count": 19,
   "metadata": {},
   "outputs": [
    {
     "name": "stdout",
     "output_type": "stream",
     "text": [
      "Iteration 1, loss = 0.65101889\n",
      "Iteration 2, loss = 0.64827720\n",
      "Iteration 3, loss = 0.64568809\n",
      "Iteration 4, loss = 0.64402322\n",
      "Iteration 5, loss = 0.64241625\n",
      "Iteration 6, loss = 0.64039590\n",
      "Iteration 7, loss = 0.64088291\n",
      "Iteration 8, loss = 0.63794517\n",
      "Iteration 9, loss = 0.63392548\n",
      "Iteration 10, loss = 0.63141680\n",
      "Iteration 11, loss = 0.62909683\n",
      "Iteration 12, loss = 0.62763778\n",
      "Iteration 13, loss = 0.62551203\n",
      "Iteration 14, loss = 0.62130979\n",
      "Iteration 15, loss = 0.61871486\n",
      "Iteration 16, loss = 0.61693477\n",
      "Iteration 17, loss = 0.61634226\n",
      "Iteration 18, loss = 0.61563956\n",
      "Iteration 19, loss = 0.60685295\n",
      "Iteration 20, loss = 0.60249633\n",
      "Iteration 21, loss = 0.60270567\n",
      "Iteration 22, loss = 0.59805127\n",
      "Iteration 23, loss = 0.59392892\n",
      "Iteration 24, loss = 0.58948049\n",
      "Iteration 25, loss = 0.58865102\n",
      "Iteration 26, loss = 0.59018521\n",
      "Iteration 27, loss = 0.58159274\n",
      "Iteration 28, loss = 0.58374701\n",
      "Iteration 29, loss = 0.57331921\n",
      "Iteration 30, loss = 0.57563696\n",
      "Iteration 31, loss = 0.57401204\n",
      "Iteration 32, loss = 0.57863644\n",
      "Iteration 33, loss = 0.57115349\n",
      "Iteration 34, loss = 0.57576041\n",
      "Iteration 35, loss = 0.57592511\n",
      "Iteration 36, loss = 0.56978813\n",
      "Iteration 37, loss = 0.56461624\n",
      "Iteration 38, loss = 0.55563375\n",
      "Iteration 39, loss = 0.55958429\n",
      "Iteration 40, loss = 0.55498675\n",
      "Iteration 41, loss = 0.56464992\n",
      "Iteration 42, loss = 0.55448130\n",
      "Iteration 43, loss = 0.55773414\n",
      "Iteration 44, loss = 0.56147250\n",
      "Iteration 45, loss = 0.55884632\n",
      "Iteration 46, loss = 0.55732000\n",
      "Iteration 47, loss = 0.54837475\n",
      "Iteration 48, loss = 0.55760083\n",
      "Iteration 49, loss = 0.55458425\n",
      "Iteration 50, loss = 0.55388719\n",
      "Iteration 51, loss = 0.55757268\n",
      "Iteration 52, loss = 0.56090641\n",
      "Iteration 53, loss = 0.55119830\n",
      "Iteration 54, loss = 0.55341256\n",
      "Iteration 55, loss = 0.54790416\n",
      "Iteration 56, loss = 0.54401179\n",
      "Iteration 57, loss = 0.55029950\n",
      "Iteration 58, loss = 0.54684952\n",
      "Iteration 59, loss = 0.54869710\n",
      "Iteration 60, loss = 0.54541174\n",
      "Iteration 61, loss = 0.54413430\n",
      "Iteration 62, loss = 0.55482218\n",
      "Iteration 63, loss = 0.56999889\n",
      "Iteration 64, loss = 0.55766739\n",
      "Iteration 65, loss = 0.54730542\n",
      "Iteration 66, loss = 0.54955930\n",
      "Iteration 67, loss = 0.54800386\n",
      "Training loss did not improve more than tol=0.000100 for 10 consecutive epochs. Stopping.\n"
     ]
    },
    {
     "data": {
      "text/plain": [
       "MLPClassifier(activation='logistic', hidden_layer_sizes=(64, 64),\n",
       "              learning_rate_init=0.05, max_iter=500, solver='sgd', verbose=1)"
      ]
     },
     "execution_count": 19,
     "metadata": {},
     "output_type": "execute_result"
    }
   ],
   "source": [
    "# library import for splitting the dataset into training and testing parts\n",
    "from sklearn.model_selection import train_test_split\n",
    "from sklearn.neural_network import MLPClassifier\n",
    "# separate target labels from the dataset\n",
    "targets = my_dataset['Outcome']\n",
    "# how much percentage of the dataset will be used for training\n",
    "training_proportion = 0.7\n",
    "# splitting the dataset into test and training sets\n",
    "X_train, X_test, y_train, y_test = train_test_split(clustering_dataset, targets, test_size=1-training_proportion, random_state=42)\n",
    "model_1 = MLPClassifier(hidden_layer_sizes=(32,32), max_iter=500, activation='logistic', solver='sgd', learning_rate_init=0.05, verbose=1)\n",
    "model_1.fit(X_train, y_train)"
   ]
  },
  {
   "cell_type": "markdown",
   "metadata": {},
   "source": [
    "####Performance analysis"
   ]
  },
  {
   "cell_type": "code",
   "execution_count": 20,
   "metadata": {},
   "outputs": [
    {
     "name": "stdout",
     "output_type": "stream",
     "text": [
      "              precision    recall  f1-score   support\n",
      "\n",
      "           0       0.74      0.86      0.80       151\n",
      "           1       0.62      0.42      0.50        80\n",
      "\n",
      "    accuracy                           0.71       231\n",
      "   macro avg       0.68      0.64      0.65       231\n",
      "weighted avg       0.70      0.71      0.69       231\n",
      "\n"
     ]
    },
    {
     "data": {
      "image/png": "[encoded data removed]",
      "text/plain": [
       "<Figure size 504x288 with 2 Axes>"
      ]
     },
     "metadata": {
      "needs_background": "light"
     },
     "output_type": "display_data"
    }
   ],
   "source": [
    "from sklearn.metrics import classification_report, confusion_matrix, ConfusionMatrixDisplay\n",
    "import pylab as pl\n",
    "y_predictions_1 = model.predict(X_test)\n",
    "print(classification_report(y_test, y_predictions_1, zero_division=0))\n",
    "conf_matrix = confusion_matrix(y_test, y_predictions_1)\n",
    "fig, ax = pl.subplots(figsize=(7,4))\n",
    "sns.heatmap(conf_matrix, annot = True, fmt = 'g', ax = ax);\n",
    "ax.set_xlabel('Predicted class labels');\n",
    "ax.set_ylabel('True class labels');\n",
    "ax.set_title('Confusion matrix');\n",
    "ax.xaxis.set_ticklabels(my_dataset['Outcome'].unique());\n",
    "ax.yaxis.set_ticklabels(my_dataset['Outcome'].unique());"
   ]
  },
  {
   "cell_type": "markdown",
   "metadata": {},
   "source": [
    "#### The confusion matrix shows that 46 data objects with label 1 was mistakenly classified as 0, and 21 data objects with label 1 was classified as 0. In total: 67 out of 231 data objects were misclassified: overall accuracy 71%. "
   ]
  },
  {
   "cell_type": "markdown",
   "metadata": {},
   "source": [
    "2nd model: hidden layers sizes are icreased up to 86 neurons each"
   ]
  },
  {
   "cell_type": "code",
   "execution_count": 37,
   "metadata": {},
   "outputs": [
    {
     "name": "stdout",
     "output_type": "stream",
     "text": [
      "Iteration 1, loss = 0.66989598\n",
      "Iteration 2, loss = 0.64802409\n",
      "Iteration 3, loss = 0.65052690\n",
      "Iteration 4, loss = 0.64468647\n",
      "Iteration 5, loss = 0.64217291\n",
      "Iteration 6, loss = 0.64060836\n",
      "Iteration 7, loss = 0.63715729\n",
      "Iteration 8, loss = 0.63538911\n",
      "Iteration 9, loss = 0.63333410\n",
      "Iteration 10, loss = 0.63198359\n",
      "Iteration 11, loss = 0.62856286\n",
      "Iteration 12, loss = 0.62425243\n",
      "Iteration 13, loss = 0.62165855\n",
      "Iteration 14, loss = 0.61716883\n",
      "Iteration 15, loss = 0.61362134\n",
      "Iteration 16, loss = 0.61415719\n",
      "Iteration 17, loss = 0.60986594\n",
      "Iteration 18, loss = 0.60161751\n",
      "Iteration 19, loss = 0.59764334\n",
      "Iteration 20, loss = 0.59491600\n",
      "Iteration 21, loss = 0.58901149\n",
      "Iteration 22, loss = 0.59364699\n",
      "Iteration 23, loss = 0.58525718\n",
      "Iteration 24, loss = 0.58470424\n",
      "Iteration 25, loss = 0.57740283\n",
      "Iteration 26, loss = 0.57727368\n",
      "Iteration 27, loss = 0.57685382\n",
      "Iteration 28, loss = 0.57384471\n",
      "Iteration 29, loss = 0.57788711\n",
      "Iteration 30, loss = 0.57259536\n",
      "Iteration 31, loss = 0.55949665\n",
      "Iteration 32, loss = 0.55837756\n",
      "Iteration 33, loss = 0.56411317\n",
      "Iteration 34, loss = 0.56516564\n",
      "Iteration 35, loss = 0.56003240\n",
      "Iteration 36, loss = 0.55978616\n",
      "Iteration 37, loss = 0.55477874\n",
      "Iteration 38, loss = 0.55469947\n",
      "Iteration 39, loss = 0.54803777\n",
      "Iteration 40, loss = 0.55201707\n",
      "Iteration 41, loss = 0.54602878\n",
      "Iteration 42, loss = 0.59547895\n",
      "Iteration 43, loss = 0.54910726\n",
      "Iteration 44, loss = 0.55630464\n",
      "Iteration 45, loss = 0.54699612\n",
      "Iteration 46, loss = 0.55291825\n",
      "Iteration 47, loss = 0.54703609\n",
      "Iteration 48, loss = 0.54411444\n",
      "Iteration 49, loss = 0.54942310\n",
      "Iteration 50, loss = 0.55832533\n",
      "Iteration 51, loss = 0.55189296\n",
      "Iteration 52, loss = 0.56189004\n",
      "Iteration 53, loss = 0.54211010\n",
      "Iteration 54, loss = 0.54489225\n",
      "Iteration 55, loss = 0.54325923\n",
      "Iteration 56, loss = 0.55959869\n",
      "Iteration 57, loss = 0.56174933\n",
      "Iteration 58, loss = 0.54670687\n",
      "Iteration 59, loss = 0.54225122\n",
      "Iteration 60, loss = 0.54061625\n",
      "Iteration 61, loss = 0.53976344\n",
      "Iteration 62, loss = 0.53356569\n",
      "Iteration 63, loss = 0.55904807\n",
      "Iteration 64, loss = 0.55210813\n",
      "Iteration 65, loss = 0.53788634\n",
      "Iteration 66, loss = 0.54269014\n",
      "Iteration 67, loss = 0.53237200\n",
      "Iteration 68, loss = 0.53939704\n",
      "Iteration 69, loss = 0.53848669\n",
      "Iteration 70, loss = 0.53503637\n",
      "Iteration 71, loss = 0.53002812\n",
      "Iteration 72, loss = 0.54823004\n",
      "Iteration 73, loss = 0.53945772\n",
      "Iteration 74, loss = 0.54128549\n",
      "Iteration 75, loss = 0.53413812\n",
      "Iteration 76, loss = 0.53538130\n",
      "Iteration 77, loss = 0.52762700\n",
      "Iteration 78, loss = 0.53369871\n",
      "Iteration 79, loss = 0.52081368\n",
      "Iteration 80, loss = 0.52506526\n",
      "Iteration 81, loss = 0.54518468\n",
      "Iteration 82, loss = 0.53075519\n",
      "Iteration 83, loss = 0.53769508\n",
      "Iteration 84, loss = 0.52762528\n",
      "Iteration 85, loss = 0.51669447\n",
      "Iteration 86, loss = 0.52061398\n",
      "Iteration 87, loss = 0.52475285\n",
      "Iteration 88, loss = 0.53628538\n",
      "Iteration 89, loss = 0.53743084\n",
      "Iteration 90, loss = 0.52856736\n",
      "Iteration 91, loss = 0.52897071\n",
      "Iteration 92, loss = 0.53171150\n",
      "Iteration 93, loss = 0.52395354\n",
      "Iteration 94, loss = 0.52388697\n",
      "Iteration 95, loss = 0.53312894\n",
      "Iteration 96, loss = 0.53154168\n",
      "Training loss did not improve more than tol=0.000100 for 10 consecutive epochs. Stopping.\n"
     ]
    },
    {
     "data": {
      "text/plain": [
       "MLPClassifier(activation='logistic', hidden_layer_sizes=(86, 86),\n",
       "              learning_rate_init=0.05, max_iter=500, solver='sgd', verbose=1)"
      ]
     },
     "execution_count": 37,
     "metadata": {},
     "output_type": "execute_result"
    }
   ],
   "source": [
    "model_2 = MLPClassifier(hidden_layer_sizes=(86,86), max_iter=500, activation='logistic', solver='sgd', learning_rate_init=0.05, verbose=1)\n",
    "model_2.fit(X_train, y_train)"
   ]
  },
  {
   "cell_type": "code",
   "execution_count": 38,
   "metadata": {},
   "outputs": [
    {
     "name": "stdout",
     "output_type": "stream",
     "text": [
      "              precision    recall  f1-score   support\n",
      "\n",
      "           0       0.69      0.95      0.80       151\n",
      "           1       0.65      0.19      0.29        80\n",
      "\n",
      "    accuracy                           0.68       231\n",
      "   macro avg       0.67      0.57      0.54       231\n",
      "weighted avg       0.68      0.68      0.62       231\n",
      "\n"
     ]
    },
    {
     "data": {
      "image/png": "[encoded data removed]",
      "text/plain": [
       "<Figure size 504x288 with 2 Axes>"
      ]
     },
     "metadata": {
      "needs_background": "light"
     },
     "output_type": "display_data"
    }
   ],
   "source": [
    "y_predictions_2 = model_2.predict(X_test)\n",
    "print(classification_report(y_test, y_predictions_2, zero_division=0))\n",
    "conf_matrix = confusion_matrix(y_test, y_predictions_2)\n",
    "fig, ax = pl.subplots(figsize=(7,4))\n",
    "sns.heatmap(conf_matrix, annot = True, fmt = 'g', ax = ax);\n",
    "ax.set_xlabel('Predicted class labels');\n",
    "ax.set_ylabel('True class labels');\n",
    "ax.set_title('Confusion matrix');\n",
    "ax.xaxis.set_ticklabels(my_dataset['Outcome'].unique());\n",
    "ax.yaxis.set_ticklabels(my_dataset['Outcome'].unique());"
   ]
  },
  {
   "cell_type": "markdown",
   "metadata": {},
   "source": [
    "#### The accuracy of the second model is only 68%: this model overfits the training data due to the too large number of neurons"
   ]
  },
  {
   "cell_type": "markdown",
   "metadata": {},
   "source": [
    "3rd model: one hidden layer with 64 neurons, learning rate is 0.01"
   ]
  },
  {
   "cell_type": "code",
   "execution_count": 65,
   "metadata": {},
   "outputs": [
    {
     "name": "stdout",
     "output_type": "stream",
     "text": [
      "Iteration 1, loss = 0.75783236\n",
      "Iteration 2, loss = 0.63868935\n",
      "Iteration 3, loss = 0.61545076\n",
      "Iteration 4, loss = 0.63562619\n",
      "Iteration 5, loss = 0.61681893\n",
      "Iteration 6, loss = 0.61249702\n",
      "Iteration 7, loss = 0.64311019\n",
      "Iteration 8, loss = 0.59304284\n",
      "Iteration 9, loss = 0.59497420\n",
      "Iteration 10, loss = 0.60447321\n",
      "Iteration 11, loss = 0.58449405\n",
      "Iteration 12, loss = 0.58383905\n",
      "Iteration 13, loss = 0.61862493\n",
      "Iteration 14, loss = 0.61156352\n",
      "Iteration 15, loss = 0.59664136\n",
      "Iteration 16, loss = 0.61469152\n",
      "Iteration 17, loss = 0.59211152\n",
      "Iteration 18, loss = 0.58460770\n",
      "Iteration 19, loss = 0.59021190\n",
      "Iteration 20, loss = 0.57865582\n",
      "Iteration 21, loss = 0.58612902\n",
      "Iteration 22, loss = 0.59546801\n",
      "Iteration 23, loss = 0.60058787\n",
      "Iteration 24, loss = 0.60982985\n",
      "Iteration 25, loss = 0.60788255\n",
      "Iteration 26, loss = 0.58351318\n",
      "Iteration 27, loss = 0.57282533\n",
      "Iteration 28, loss = 0.61568787\n",
      "Iteration 29, loss = 0.58766348\n",
      "Iteration 30, loss = 0.57337003\n",
      "Iteration 31, loss = 0.57821990\n",
      "Iteration 32, loss = 0.58742731\n",
      "Iteration 33, loss = 0.60402542\n",
      "Iteration 34, loss = 0.58075355\n",
      "Iteration 35, loss = 0.57910795\n",
      "Iteration 36, loss = 0.57579992\n",
      "Iteration 37, loss = 0.58328453\n",
      "Iteration 38, loss = 0.60070237\n",
      "Training loss did not improve more than tol=0.000100 for 10 consecutive epochs. Stopping.\n"
     ]
    },
    {
     "data": {
      "text/plain": [
       "MLPClassifier(activation='logistic', hidden_layer_sizes=64,\n",
       "              learning_rate_init=0.1, max_iter=500, solver='sgd', verbose=1)"
      ]
     },
     "execution_count": 65,
     "metadata": {},
     "output_type": "execute_result"
    }
   ],
   "source": [
    "model_3 = MLPClassifier(hidden_layer_sizes=(64), max_iter=500, activation='logistic', solver='sgd', learning_rate_init=0.1, verbose=1)\n",
    "model_3.fit(X_train, y_train)"
   ]
  },
  {
   "cell_type": "code",
   "execution_count": 66,
   "metadata": {},
   "outputs": [
    {
     "name": "stdout",
     "output_type": "stream",
     "text": [
      "              precision    recall  f1-score   support\n",
      "\n",
      "           0       0.67      0.95      0.78       151\n",
      "           1       0.50      0.10      0.17        80\n",
      "\n",
      "    accuracy                           0.65       231\n",
      "   macro avg       0.58      0.52      0.47       231\n",
      "weighted avg       0.61      0.65      0.57       231\n",
      "\n"
     ]
    },
    {
     "data": {
      "image/png": "[encoded data removed]",
      "text/plain": [
       "<Figure size 504x288 with 2 Axes>"
      ]
     },
     "metadata": {
      "needs_background": "light"
     },
     "output_type": "display_data"
    }
   ],
   "source": [
    "y_predictions_3 = model_3.predict(X_test)\n",
    "print(classification_report(y_test, y_predictions_3, zero_division=0))\n",
    "conf_matrix = confusion_matrix(y_test, y_predictions_3)\n",
    "fig, ax = pl.subplots(figsize=(7,4))\n",
    "sns.heatmap(conf_matrix, annot = True, fmt = 'g', ax = ax);\n",
    "ax.set_xlabel('Predicted class labels');\n",
    "ax.set_ylabel('True class labels');\n",
    "ax.set_title('Confusion matrix');\n",
    "ax.xaxis.set_ticklabels(my_dataset['Outcome'].unique());\n",
    "ax.yaxis.set_ticklabels(my_dataset['Outcome'].unique());"
   ]
  },
  {
   "cell_type": "markdown",
   "metadata": {},
   "source": [
    "The accuracy of this model is only 65%: learning rate is too high in this model"
   ]
  },
  {
   "cell_type": "markdown",
   "metadata": {},
   "source": [
    "model 4: one hidden layer with 32 neurons, learning rate is 0.02"
   ]
  },
  {
   "cell_type": "code",
   "execution_count": 97,
   "metadata": {},
   "outputs": [
    {
     "name": "stdout",
     "output_type": "stream",
     "text": [
      "Iteration 1, loss = 0.66039962\n",
      "Iteration 2, loss = 0.63706309\n",
      "Iteration 3, loss = 0.62923695\n",
      "Iteration 4, loss = 0.62351355\n",
      "Iteration 5, loss = 0.61833784\n",
      "Iteration 6, loss = 0.61192106\n",
      "Iteration 7, loss = 0.60771052\n",
      "Iteration 8, loss = 0.60391001\n",
      "Iteration 9, loss = 0.60176378\n",
      "Iteration 10, loss = 0.59762838\n",
      "Iteration 11, loss = 0.59958515\n",
      "Iteration 12, loss = 0.59316108\n",
      "Iteration 13, loss = 0.58819953\n",
      "Iteration 14, loss = 0.58597312\n",
      "Iteration 15, loss = 0.58671010\n",
      "Iteration 16, loss = 0.57600575\n",
      "Iteration 17, loss = 0.57467685\n",
      "Iteration 18, loss = 0.57696244\n",
      "Iteration 19, loss = 0.57298362\n",
      "Iteration 20, loss = 0.57802831\n",
      "Iteration 21, loss = 0.56673762\n",
      "Iteration 22, loss = 0.56452189\n",
      "Iteration 23, loss = 0.57155119\n",
      "Iteration 24, loss = 0.57171597\n",
      "Iteration 25, loss = 0.57598440\n",
      "Iteration 26, loss = 0.57408450\n",
      "Iteration 27, loss = 0.56742212\n",
      "Iteration 28, loss = 0.56334947\n",
      "Iteration 29, loss = 0.55992126\n",
      "Iteration 30, loss = 0.56142983\n",
      "Iteration 31, loss = 0.55482916\n",
      "Iteration 32, loss = 0.55650314\n",
      "Iteration 33, loss = 0.55470289\n",
      "Iteration 34, loss = 0.55674382\n",
      "Iteration 35, loss = 0.55223897\n",
      "Iteration 36, loss = 0.55312742\n",
      "Iteration 37, loss = 0.55298219\n",
      "Iteration 38, loss = 0.56501526\n",
      "Iteration 39, loss = 0.55676001\n",
      "Iteration 40, loss = 0.55479289\n",
      "Iteration 41, loss = 0.56408968\n",
      "Iteration 42, loss = 0.55598658\n",
      "Iteration 43, loss = 0.55229372\n",
      "Iteration 44, loss = 0.57835516\n",
      "Iteration 45, loss = 0.56586870\n",
      "Iteration 46, loss = 0.56942205\n",
      "Training loss did not improve more than tol=0.000100 for 10 consecutive epochs. Stopping.\n"
     ]
    },
    {
     "data": {
      "text/plain": [
       "MLPClassifier(activation='logistic', hidden_layer_sizes=32,\n",
       "              learning_rate_init=0.02, max_iter=500, solver='sgd', verbose=1)"
      ]
     },
     "execution_count": 97,
     "metadata": {},
     "output_type": "execute_result"
    }
   ],
   "source": [
    "model_4 = MLPClassifier(hidden_layer_sizes=(32), max_iter=500, activation='logistic', solver='sgd', learning_rate_init=0.02, verbose=1)\n",
    "model_4.fit(X_train, y_train)"
   ]
  },
  {
   "cell_type": "code",
   "execution_count": 101,
   "metadata": {},
   "outputs": [
    {
     "name": "stdout",
     "output_type": "stream",
     "text": [
      "              precision    recall  f1-score   support\n",
      "\n",
      "           0       0.72      0.89      0.79       151\n",
      "           1       0.61      0.34      0.44        80\n",
      "\n",
      "    accuracy                           0.70       231\n",
      "   macro avg       0.67      0.61      0.61       231\n",
      "weighted avg       0.68      0.70      0.67       231\n",
      "\n",
      "[[134  17]\n",
      " [ 53  27]]\n"
     ]
    },
    {
     "data": {
      "image/png": "[encoded data removed]",
      "text/plain": [
       "<Figure size 504x288 with 2 Axes>"
      ]
     },
     "metadata": {
      "needs_background": "light"
     },
     "output_type": "display_data"
    }
   ],
   "source": [
    "y_predictions_4 = model_4.predict(X_test)\n",
    "print(classification_report(y_test, y_predictions_4, zero_division=0))\n",
    "conf_matrix = confusion_matrix(y_test, y_predictions_4)\n",
    "print(conf_matrix)\n",
    "fig, ax = pl.subplots(figsize=(7,4))\n",
    "sns.heatmap(conf_matrix, annot = True, fmt = 'g', ax = ax);\n",
    "ax.set_xlabel('Predicted class labels');\n",
    "ax.set_ylabel('True class labels');\n",
    "ax.set_title('Confusion matrix');\n",
    "ax.xaxis.set_ticklabels(my_dataset['Outcome'].unique());\n",
    "ax.yaxis.set_ticklabels(my_dataset['Outcome'].unique());"
   ]
  },
  {
   "cell_type": "markdown",
   "metadata": {},
   "source": [
    "The accuracy of this model is 70%, it performed slightly worse then the first one. Therefore, after conducted experiments the first model is declared as the most accurate and reliable model out of 4 models tested. "
   ]
  }
 ],
 "metadata": {
  "colab": {
   "collapsed_sections": [
    "LTxaIg_KVc2l",
    "dznf3CJjsLgL",
    "M80eka9yu0i0",
    "ebyxMJ7NvDsC",
    "sosQqUjgvSKd",
    "DoVP0wFIv41m",
    "O0DkTO_ax_5J",
    "yYAheMDTyuGa",
    "5tbSLd9t0-JL",
    "P8hJ1Dqd1k2S",
    "4RmtfxAM3hFM",
    "dom4tj1y3xWf",
    "LftQhoi_CETC",
    "3Hkt83qc9_fy"
   ],
   "provenance": [],
   "toc_visible": true
  },
  "kernelspec": {
   "display_name": "Python 3 (ipykernel)",
   "language": "python",
   "name": "python3"
  },
  "language_info": {
   "codemirror_mode": {
    "name": "ipython",
    "version": 3
   },
   "file_extension": ".py",
   "mimetype": "text/x-python",
   "name": "python",
   "nbconvert_exporter": "python",
   "pygments_lexer": "ipython3",
   "version": "3.9.12"
  }
 },
 "nbformat": 4,
 "nbformat_minor": 1
}
